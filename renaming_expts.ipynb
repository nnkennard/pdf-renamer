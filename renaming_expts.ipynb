{
 "cells": [
  {
   "cell_type": "code",
   "execution_count": null,
   "id": "4c72e892",
   "metadata": {},
   "outputs": [],
   "source": [
    "import glob\n",
    "import re\n",
    "import os\n",
    "\n",
    "import xml.etree.ElementTree as ET\n",
    "\n",
    "PREFIX = \"{http://www.tei-c.org/ns/1.0}\"\n",
    "AUTHOR_ID = f\"{PREFIX}author\"\n",
    "TITLE_CLEAN = re.compile('[^a-zA-Z\\s]')\n",
    "\n",
    "def first_child(parent, child_part):\n",
    "  return parent.findall(f'{PREFIX}{child_part}')[0]\n",
    "\n",
    "def get_docs(filename):\n",
    "  filedesc_node = first_child(first_child(ET.parse(filename).getroot(), 'teiHeader'), 'fileDesc')\n",
    "  title = first_child(first_child(filedesc_node, 'titleStmt'),  'title').text\n",
    "  title = TITLE_CLEAN.sub('', title)\n",
    "  if re.match('[^a-z]+$', title):\n",
    "      title = title.title()\n",
    "  title = \"_\".join(title.split())\n",
    "  authors = first_child(first_child(first_child(filedesc_node, 'sourceDesc'),  'biblStruct'), 'analytic').findall(AUTHOR_ID)\n",
    "\n",
    "  assert filename.endswith('.tei.xml')\n",
    "  file_desc = filename.split('/')[-1][:-8]\n",
    "  print(file_desc)\n",
    "  if re.match('[0-9]+\\..*', file_desc):\n",
    "      if re.match('^[^a-z]+$', file_desc):\n",
    "          date = f'20{file_desc[:2]}'\n",
    "      else:\n",
    "          date = file_desc[:4]\n",
    "  else: \n",
    "    date = None\n",
    "    \n",
    "  last_names = [first_child(first_child(author, 'persName'), 'surname').text for author in authors]\n",
    "  if not(last_names):\n",
    "      author_str = \"no_author\"\n",
    "  elif len(last_names) == 1:\n",
    "      author_str, = last_names\n",
    "  elif len(last_names) == 2:\n",
    "      author_str = \"_and_\".join(last_names)\n",
    "  else:\n",
    "      author_str = last_names[0]+\"_etal\"\n",
    "\n",
    "  if date is None:\n",
    "      return f'{author_str}_{title}.pdf'\n",
    "  else:\n",
    "      return f'{author_str}_{date}_{title}.pdf'\n",
    "    \n"
   ]
  },
  {
   "cell_type": "code",
   "execution_count": null,
   "id": "77dd753e",
   "metadata": {},
   "outputs": [],
   "source": [
    "for filename in glob.glob(f\"xmls/*.xml\"):\n",
    "  new_filename = get_docs(filename)\n",
    "  pdf_filename = filename.replace('xml', 'pdf').replace('.tei', '')\n",
    "  head, tail = os.path.split(pdf_filename)\n",
    "  print(head, tail)\n",
    "  os.rename(pdf_filename, os.path.join(head, new_filename))"
   ]
  }
 ],
 "metadata": {
  "kernelspec": {
   "display_name": "Python 3 (ipykernel)",
   "language": "python",
   "name": "python3"
  },
  "language_info": {
   "codemirror_mode": {
    "name": "ipython",
    "version": 3
   },
   "file_extension": ".py",
   "mimetype": "text/x-python",
   "name": "python",
   "nbconvert_exporter": "python",
   "pygments_lexer": "ipython3",
   "version": "3.8.12"
  }
 },
 "nbformat": 4,
 "nbformat_minor": 5
}
